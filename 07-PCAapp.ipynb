{
 "cells": [
  {
   "cell_type": "markdown",
   "metadata": {
    "slideshow": {
     "slide_type": "slide"
    }
   },
   "source": [
    "<hr/>\n",
    "\n",
    "#Data Mining [EN.550.436]\n",
    "**Tamás Budavári** - budavari@jhu.edu <br/>\n",
    "**Class 7** - Sept 17, 2015\n",
    "\n",
    "- Principal Component Analysis\n",
    "- Scree plot\n",
    "- Fitting lines, again\n",
    "\n",
    "<hr/>"
   ]
  },
  {
   "cell_type": "markdown",
   "metadata": {
    "slideshow": {
     "slide_type": "slide"
    }
   },
   "source": [
    "<h1><font color=\"darkblue\">Principal Component Analysis</font></h1>"
   ]
  },
  {
   "cell_type": "markdown",
   "metadata": {},
   "source": [
    "<img src=files/800px-GaussianScatterPCA.png width=250 align=right>\n",
    "\n",
    "### What Features?\n",
    "\n",
    "- High-dimensional data\n",
    "- Data transformations\n",
    "- Interesting directions\n",
    "- Linear combinations\n",
    "- Rotated coordinate system"
   ]
  },
  {
   "cell_type": "markdown",
   "metadata": {},
   "source": [
    "### Location & Dispersion\n",
    "\n",
    "- 1-dimensional\n",
    "\n",
    "> For example, mean and variance\n",
    "\n",
    "- $N$-dimensional\n",
    "\n",
    "> E.g, again mean (duh!) and covariance matrix\n",
    "\n",
    "\n"
   ]
  },
  {
   "cell_type": "markdown",
   "metadata": {},
   "source": [
    "### Principal Components\n",
    "\n",
    "- Eigensystem of the covariance matrix is special\n",
    "\n",
    "> $\\displaystyle  C\\,\\boldsymbol{e}_k = \\lambda_k\\,\\boldsymbol{e}_k \\ \\ \\ $ for all $k=1\\dots{}N$ \n",
    "\n",
    "> where\n",
    "\n",
    "> $\\displaystyle \\boldsymbol{e}_k^T \\boldsymbol{e}_l = \\delta_{kl} \\ \\ \\ $ for all $k$ and $l$\n",
    "\n",
    "- The 1st principal component \n",
    "\n",
    "> The direction of maximum variance is the eigenvector $\\boldsymbol{e}_1$ \n",
    "> that belongs to the largest eigenvalue $\\lambda_1$\n",
    "> and $\\lambda_1$ is the variance along that direction"
   ]
  },
  {
   "cell_type": "markdown",
   "metadata": {},
   "source": [
    "### Linear Combination\n",
    "\n",
    "- If $X$ is a linear combination of the eigenvectors\n",
    "\n",
    "> $\\displaystyle  X = \\sum_k \\boldsymbol{e}_k \\beta_{k} =  E\\,\\boldsymbol\\beta$ \n",
    "\n",
    "> with orthonormal $E=[\\boldsymbol{e}_1, ..., \\boldsymbol{e}_N]$ eigenbasis\n",
    "\n",
    "- We get the (random variable) coefficients\n",
    "\n",
    "> $\\displaystyle  \\boldsymbol{\\beta} = E^T\\,X$ \n",
    "\n",
    "> because $E^T{}E = I$"
   ]
  },
  {
   "cell_type": "markdown",
   "metadata": {},
   "source": [
    "### Coordinate Transformation\n",
    "\n",
    "- New covariance matrix is diagonal and the elements are the eigenvalues of $C$\n",
    "\n",
    "> If $\\beta=E^T X$ and again assuming $\\mathbb{E}[X]=0$ then\n",
    "\n",
    "> $\\displaystyle \\ \\ \\ \\ \\ \\ \\ \\ \\mathbb{E}[\\beta \\beta^T] = \\mathbb{E}[E^T X\\,X^T E] = E^T\\,C\\,E = \\Lambda$\n",
    "\n",
    "> where \n",
    "\n",
    ">$\\displaystyle \\ \\ \\ \\ \\ \\ \\ \\ \\Lambda =  \\left( \\begin{array}{ccc}\n",
    "{\\lambda_1} &  & \\cdots & 0\\\\\n",
    " & {\\lambda_2} &   & \\vdots\\\\\n",
    "\\vdots &  & \\ddots &  \\\\\n",
    "0 & \\cdots &  & {\\lambda_N} \\\\\n",
    "\\end{array} \\right)$\n",
    "\n",
    "<!-- -->\n",
    "\n",
    "> Recall $C \\boldsymbol{e}_l = \\lambda_l \\boldsymbol{e}_l$ for all $l$, so the $(k,l)$ element of the new covariance matrix \n",
    "\n",
    ">$\\displaystyle \\boldsymbol{e}_k^T C \\boldsymbol{e}_l = \\lambda_l \\boldsymbol{e}_k^T  \\boldsymbol{e}_l  = \\lambda_l\\delta_{kl} = \\Lambda_{kl}$"
   ]
  },
  {
   "cell_type": "markdown",
   "metadata": {},
   "source": [
    "### Eigendecomposition \n",
    "\n",
    "- If we multiply with $E$ and $E^T$ from left and right \n",
    "\n",
    "> $ C = E\\,\\Lambda\\,E^T$\n",
    "\n",
    "> or\n",
    "\n",
    ">$\\displaystyle C = \\sum_{k=1}^N\\ \\lambda_k\\left(\\boldsymbol{e}_k\\,\\boldsymbol{e}_k^T\\right) $"
   ]
  },
  {
   "cell_type": "markdown",
   "metadata": {},
   "source": [
    "### Largest Eigenvalues\n",
    "\n",
    "- The eigenvectors of largest eigenvalues capture the most variance\n",
    "\n",
    "> If keeping only $K<N$ eigenvectors, the best is to take the ones belonging to the $K$ largest eigenvalues PCs\n",
    "\n",
    "> $\\displaystyle  C \\approx \\sum_{k=1}^K\\ \\lambda_k\\left(\\boldsymbol{e}_k\\,\\boldsymbol{e}_k^T\\right) =  E_K\\Lambda_KE_K^T$\n",
    "\n"
   ]
  },
  {
   "cell_type": "markdown",
   "metadata": {},
   "source": [
    "### Dimensionality Reduction\n",
    "\n",
    "\n",
    "- A truncated set of eigenvectors $E_K$ defines a transformation that reduces the dimensionality from $N$ to $K$ while preserving the most variance possible\n",
    "\n",
    "> $\\displaystyle  \\beta_K = E_K^T\\, X $\n",
    "\n",
    "> and\n",
    "\n",
    "> $\\displaystyle  X_K = E_K \\beta_K = E_K E_K^T\\, X = P_K\\,X $\n",
    "\n",
    "\n"
   ]
  },
  {
   "cell_type": "markdown",
   "metadata": {},
   "source": [
    "### Samples\n",
    "\n",
    "- Set of $N$-vectors with expectation value (or average, cf. Bessel correction) 0 arranged in $X=\\left[x_1, x_2, \\dots\\right]$ \n",
    "\n",
    "> Sample covariance matrix is\n",
    "\n",
    ">$\\displaystyle C \\propto X X^T = \\sum_i x_i x_i^T$\n",
    "\n",
    "- Singular Value Decomposition (SVD)\n",
    "\n",
    ">$\\displaystyle X = U W V^T$\n",
    "\n",
    "> where $U^TU=I$, $W$ is diagonal, and $V^TV=I$\n",
    "\n",
    "- Hence\n",
    "\n",
    ">$\\displaystyle C \\propto UWV^T\\ VWU^T = U W^2 U^T$\n",
    "\n",
    "> So if $C=E\\Lambda E^T$, then $E = U$ and $ \\Lambda \\propto W^2$\n",
    "\n"
   ]
  },
  {
   "cell_type": "code",
   "execution_count": 125,
   "metadata": {
    "collapsed": false
   },
   "outputs": [
    {
     "name": "stdout",
     "output_type": "stream",
     "text": [
      "Populating the interactive namespace from numpy and matplotlib\n"
     ]
    },
    {
     "name": "stderr",
     "output_type": "stream",
     "text": [
      "WARNING: pylab import has clobbered these variables: ['norm', 'f']\n",
      "`%matplotlib` prevents importing * from pylab and numpy\n"
     ]
    }
   ],
   "source": [
    "%pylab inline"
   ]
  },
  {
   "cell_type": "markdown",
   "metadata": {},
   "source": [
    "### Random Sample from Bivariate Normal \n",
    "\n",
    "- See previous lecture"
   ]
  },
  {
   "cell_type": "code",
   "execution_count": 127,
   "metadata": {
    "collapsed": true
   },
   "outputs": [],
   "source": [
    "from scipy.stats import norm\n",
    "# generate many 2D (column) vectors\n",
    "N = norm.rvs(0,1,(2,50))\n",
    "S = np.copy(N)\n",
    "S[0,:] *= 4  # scale axis 0\n",
    "f = +pi/4    # rotate by 45 degrees\n",
    "R = array([[cos(f), -sin(f)],\n",
    "           [sin(f),  cos(f)]]) \n",
    "X = R.dot(S)\n",
    "X += np.array([[1],[3]]) # shift"
   ]
  },
  {
   "cell_type": "code",
   "execution_count": 135,
   "metadata": {
    "collapsed": false
   },
   "outputs": [
    {
     "data": {
      "text/plain": [
       "[<matplotlib.lines.Line2D at 0x16619e48>]"
      ]
     },
     "execution_count": 135,
     "metadata": {},
     "output_type": "execute_result"
    },
    {
     "data": {
      "image/png": "[encoded data removed]",
      "text/plain": [
       "<matplotlib.figure.Figure at 0x1b501940>"
      ]
     },
     "metadata": {},
     "output_type": "display_data"
    },
    {
     "data": {
      "image/png": "[encoded data removed]",
      "text/plain": [
       "<matplotlib.figure.Figure at 0x16101390>"
      ]
     },
     "metadata": {},
     "output_type": "display_data"
    }
   ],
   "source": [
    "figure(figsize=(5,5))\n",
    "plot(X[0,:],X[1,:],'o');\n",
    "xlim(-10,10); ylim(-10,10);\n",
    "\n",
    "figure(figsize=(5,5)); xlim(-15,15); ylim(-15,15);\n",
    "plot(X[0,:],X[1,:],'o',alpha=0.9)\n"
   ]
  },
  {
   "cell_type": "code",
   "execution_count": 136,
   "metadata": {
    "collapsed": false
   },
   "outputs": [
    {
     "name": "stdout",
     "output_type": "stream",
     "text": [
      "Average\n",
      "[[ 1.58050209]\n",
      " [ 3.2475148 ]]\n",
      "Covariance\n",
      "[[ 7.37145309  6.79283424]\n",
      " [ 6.79283424  8.28810651]]\n"
     ]
    }
   ],
   "source": [
    "# subtract sample mean\n",
    "avg = mean(X, axis=1).reshape(X[:,1].size,1)\n",
    "X -= avg\n",
    "# sample covariance matrix\n",
    "C = X.dot(X.T) / (X[0,:].size-1) \n",
    "print \"Average\\n\", avg\n",
    "print \"Covariance\\n\", C"
   ]
  },
  {
   "cell_type": "code",
   "execution_count": 137,
   "metadata": {
    "collapsed": false
   },
   "outputs": [
    {
     "data": {
      "text/plain": [
       "(array([[-0.73052003, -0.68289127],\n",
       "        [ 0.68289127, -0.73052003]]), array([  1.02150099,  14.63805861]))"
      ]
     },
     "execution_count": 137,
     "metadata": {},
     "output_type": "execute_result"
    }
   ],
   "source": [
    "L, E = np.linalg.eig(C)\n",
    "E, L"
   ]
  },
  {
   "cell_type": "code",
   "execution_count": 138,
   "metadata": {
    "collapsed": false
   },
   "outputs": [
    {
     "data": {
      "text/plain": [
       "(array([[-0.68289127, -0.73052003],\n",
       "        [-0.73052003,  0.68289127]]), array([ 14.63805861,   1.02150099]))"
      ]
     },
     "execution_count": 138,
     "metadata": {},
     "output_type": "execute_result"
    }
   ],
   "source": [
    "E, L, E_same = np.linalg.svd(C)\n",
    "E, L"
   ]
  },
  {
   "cell_type": "code",
   "execution_count": 139,
   "metadata": {
    "collapsed": false
   },
   "outputs": [
    {
     "data": {
      "text/plain": [
       "array([[  1.00000000e+00,   1.11022302e-16],\n",
       "       [  1.11022302e-16,   1.00000000e+00]])"
      ]
     },
     "execution_count": 139,
     "metadata": {},
     "output_type": "execute_result"
    }
   ],
   "source": [
    "E.dot(E.T)"
   ]
  },
  {
   "cell_type": "code",
   "execution_count": 140,
   "metadata": {
    "collapsed": false
   },
   "outputs": [
    {
     "data": {
      "text/plain": [
       "True"
      ]
     },
     "execution_count": 140,
     "metadata": {},
     "output_type": "execute_result"
    }
   ],
   "source": [
    "np.allclose( E.T, np.linalg.inv(E) )"
   ]
  },
  {
   "cell_type": "code",
   "execution_count": 145,
   "metadata": {
    "collapsed": false
   },
   "outputs": [
    {
     "data": {
      "text/plain": [
       "(array([[-0.68289127, -0.73052003],\n",
       "        [-0.73052003,  0.68289127]]), array([ 14.63805861,   1.02150099]))"
      ]
     },
     "execution_count": 145,
     "metadata": {},
     "output_type": "execute_result"
    }
   ],
   "source": [
    "U, W, V = np.linalg.svd(X)\n",
    "U, W**2 / (X[0,:].size-1)"
   ]
  },
  {
   "cell_type": "code",
   "execution_count": 142,
   "metadata": {
    "collapsed": false
   },
   "outputs": [
    {
     "data": {
      "text/plain": [
       "[True, True]"
      ]
     },
     "execution_count": 142,
     "metadata": {},
     "output_type": "execute_result"
    }
   ],
   "source": [
    "[ np.allclose( U.T.dot(U), np.eye(U[:,0].size) ), \n",
    "  np.allclose( V.T.dot(V), np.eye(V[:,0].size) )  ]"
   ]
  },
  {
   "cell_type": "code",
   "execution_count": 146,
   "metadata": {
    "collapsed": false
   },
   "outputs": [
    {
     "data": {
      "text/plain": [
       "(array([[-0.68289127,  0.73052003],\n",
       "        [-0.73052003, -0.68289127]]), array([ 14.34529744,   1.00107097]))"
      ]
     },
     "execution_count": 146,
     "metadata": {},
     "output_type": "execute_result"
    }
   ],
   "source": [
    "from sklearn import decomposition\n",
    "pca = decomposition.PCA(n_components=X[:,0].size)\n",
    "pca.fit(X.T) # different convention !!!\n",
    "# pca.transform(X.T)\n",
    "pca.components_.T, pca.explained_variance_\n",
    "# bug in the sklearn code: bessel correction!!!"
   ]
  },
  {
   "cell_type": "code",
   "execution_count": 147,
   "metadata": {
    "collapsed": false
   },
   "outputs": [
    {
     "data": {
      "image/png": "[encoded data removed]",
      "text/plain": [
       "<matplotlib.figure.Figure at 0x1b12c630>"
      ]
     },
     "metadata": {},
     "output_type": "display_data"
    }
   ],
   "source": [
    "A = E.T.dot(X);\n",
    "figure(figsize=(5,5))\n",
    "plot(A[0,:],A[1,:], 'o', alpha=0.6);\n",
    "xlim(-15,15); ylim(-15,15);"
   ]
  },
  {
   "cell_type": "code",
   "execution_count": 148,
   "metadata": {
    "collapsed": false
   },
   "outputs": [
    {
     "data": {
      "image/png": "[encoded data removed]",
      "text/plain": [
       "<matplotlib.figure.Figure at 0x1acfc400>"
      ]
     },
     "metadata": {},
     "output_type": "display_data"
    }
   ],
   "source": [
    "# projected points\n",
    "P = E[:,0:1].dot(E[:,0:1].T).dot(X)\n",
    "R = X - P; # residuals\n",
    "figure(figsize=(5,5))\n",
    "#quiver(P[0,:],P[1,:],R[0,:],R[1,:],angles='xy',scale_units='xy',scale=1,alpha=.2)\n",
    "plot(X[0,:],X[1,:], 'ob', alpha=0.4);\n",
    "#plot(P[0,:],P[1,:], '-r', alpha=0.2);\n",
    "plot(P[0,:],P[1,:], 'or', alpha=0.4);\n",
    "xlim(-10,10); ylim(-10,10);"
   ]
  },
  {
   "cell_type": "markdown",
   "metadata": {},
   "source": [
    "### Whitening\n",
    "- Frequently used to preprocess data, e.g., in signal processing\n",
    "\n",
    ">$ \\displaystyle Z = \\Lambda^{-1/2}\\ E^T\\ X$\n",
    "\n",
    "- Verify that its covariance matrix is identity"
   ]
  },
  {
   "cell_type": "code",
   "execution_count": 150,
   "metadata": {
    "collapsed": false
   },
   "outputs": [
    {
     "data": {
      "image/png": "[encoded data removed]",
      "text/plain": [
       "<matplotlib.figure.Figure at 0x16437588>"
      ]
     },
     "metadata": {},
     "output_type": "display_data"
    }
   ],
   "source": [
    "B = diag(1/sqrt(L)).dot(A)\n",
    "figure(figsize=(5,5))\n",
    "plot(B[0,:],B[1,:], 'o', alpha=0.5);\n",
    "xlim(-5,5); ylim(-5,5);"
   ]
  },
  {
   "cell_type": "code",
   "execution_count": 151,
   "metadata": {
    "collapsed": false
   },
   "outputs": [
    {
     "data": {
      "image/png": "[encoded data removed]",
      "text/plain": [
       "<matplotlib.figure.Figure at 0x16437a20>"
      ]
     },
     "metadata": {},
     "output_type": "display_data"
    }
   ],
   "source": [
    "# cf. original normal randoms\n",
    "figure(figsize=(5,5))\n",
    "plot(-N[0,:],N[1,:], 'o', alpha=0.5);\n",
    "xlim(-5,5); ylim(-5,5);"
   ]
  },
  {
   "cell_type": "markdown",
   "metadata": {},
   "source": [
    "### Inverse of the Covariance Matrix\n",
    "\n",
    "- Inverse of the diagonal eigenvalue matrix\n",
    "\n",
    ">$\\displaystyle \\Lambda^{-1} =  \\left( \\begin{array}{ccc}\n",
    "\\frac{1}{\\lambda_1} &  & \\cdots & 0\\\\\n",
    " & \\frac{1}{\\lambda_2} &   & \\vdots\\\\\n",
    "\\vdots &  & \\ddots &  \\\\\n",
    "0 & \\cdots &  & \\frac{1}{\\lambda_N} \\\\\n",
    "\\end{array} \\right)$\n",
    "\n",
    "- Inverse of the covariance matrix\n",
    "\n",
    ">$\\displaystyle C^{-1} = E\\ \\Lambda^{-1} E^T$\n",
    "\n",
    "- Also see pseudoinverse with small eigenvalues "
   ]
  },
  {
   "cell_type": "markdown",
   "metadata": {},
   "source": [
    "### Scree Plot\n",
    "\n",
    "- The eigenvalue spectrum\n",
    "\n",
    ">$ \\big\\{ \\lambda_1, \\lambda_2, \\dots, \\lambda_N \\big\\}$\n",
    "\n",
    "- How many important directions?\n",
    "\n",
    "> Keep $K =\\,?$ principal components\n",
    "\n",
    "- Explained variance \n",
    "\n",
    "> Cf. $\\mathbb{Var}[X\\pm{}Y] = \\mathbb{Var}[X]+\\mathbb{Var}[Y]$"
   ]
  },
  {
   "cell_type": "code",
   "execution_count": 152,
   "metadata": {
    "collapsed": false
   },
   "outputs": [
    {
     "data": {
      "image/png": "[encoded data removed]",
      "text/plain": [
       "<matplotlib.figure.Figure at 0x1660ef98>"
      ]
     },
     "metadata": {},
     "output_type": "display_data"
    }
   ],
   "source": [
    "# generate 10-D vectors: scale, rotate\n",
    "Z = norm.rvs(0,1,(10,10000))\n",
    "for i in range(3): Z[i,:] *= 10-2*i\n",
    "M = random.randn(Z[:,0].size,Z[:,0].size)\n",
    "Q,_ = np.linalg.qr(M) \n",
    "Y = Q.dot(Z) # quick-n-dirty random rotation\n",
    "\n",
    "# pca with svd\n",
    "Y -= mean(Y, axis=1).reshape(Y[:,1].size,1)\n",
    "#matshow(X.dot(X.T),fignum=100)\n",
    "U, W, _ = np.linalg.svd(Y)\n",
    "L = W**2 / (Y[0,:].size-1)\n",
    "\n",
    "# plots\n",
    "figure(figsize=(5,5));\n",
    "subplot(211);ylim(0,110); plot(L,'o-'); ylabel('Eigenvalues');\n",
    "subplot(212);ylim(0,110); cl=cumsum(L); ylabel('Percent');\n",
    "plot(100*cl/cl[-1],'o-r'); "
   ]
  }
 ],
 "metadata": {
  "kernelspec": {
   "display_name": "Python 2",
   "language": "python",
   "name": "python2"
  },
  "language_info": {
   "codemirror_mode": {
    "name": "ipython",
    "version": 2
   },
   "file_extension": ".py",
   "mimetype": "text/x-python",
   "name": "python",
   "nbconvert_exporter": "python",
   "pygments_lexer": "ipython2",
   "version": "2.7.9"
  }
 },
 "nbformat": 4,
 "nbformat_minor": 0
}
