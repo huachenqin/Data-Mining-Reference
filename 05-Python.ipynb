{
 "cells": [
  {
   "cell_type": "markdown",
   "metadata": {
    "slideshow": {
     "slide_type": "slide"
    }
   },
   "source": [
    "<hr/>\n",
    "\n",
    "#Data Mining [EN.550.436]\n",
    "**Tamás Budavári** - budavari@jhu.edu <br/>\n",
    "**Class 5** - Sept 10, 2015\n",
    "\n",
    "- Python and IPython examples\n",
    "- Average, KDE and Dirac's $\\delta$\n",
    "\n",
    "<hr/>"
   ]
  },
  {
   "cell_type": "markdown",
   "metadata": {},
   "source": [
    "<h1><font color=\"darkblue\">Python by Examples</font></h1>\n",
    "\n",
    "> tuple\n",
    "list\n",
    "function\n",
    "class\n",
    "for\n",
    "map \n",
    "lambda\n",
    "import\n",
    "\n",
    "> numpy\n",
    "matplotlib\n",
    "scipy\n",
    "sklearn\n",
    "seaborn"
   ]
  },
  {
   "cell_type": "code",
   "execution_count": 1,
   "metadata": {
    "collapsed": false
   },
   "outputs": [
    {
     "name": "stdout",
     "output_type": "stream",
     "text": [
      "100\n"
     ]
    }
   ],
   "source": [
    "# tuple\n",
    "t = (1,2)\n",
    "t = 100, 0.1\n",
    "N, mu = t\n",
    "print N"
   ]
  },
  {
   "cell_type": "code",
   "execution_count": 2,
   "metadata": {
    "collapsed": false
   },
   "outputs": [
    {
     "name": "stdout",
     "output_type": "stream",
     "text": [
      "[[1, 2, 3, 4, 5], [1, 2, 3, 4, 5]]\n"
     ]
    }
   ],
   "source": [
    "# list\n",
    "l = [1,2,3,4,5]\n",
    "print [l,l]"
   ]
  },
  {
   "cell_type": "code",
   "execution_count": 3,
   "metadata": {
    "collapsed": false
   },
   "outputs": [
    {
     "data": {
      "text/plain": [
       "8"
      ]
     },
     "execution_count": 3,
     "metadata": {},
     "output_type": "execute_result"
    }
   ],
   "source": [
    "# function\n",
    "def f(x,k=2):\n",
    "    return x**k\n",
    "\n",
    "f(2,3)"
   ]
  },
  {
   "cell_type": "code",
   "execution_count": 4,
   "metadata": {
    "collapsed": false
   },
   "outputs": [
    {
     "name": "stdout",
     "output_type": "stream",
     "text": [
      "[(0, 0), (10.0, 0.0), (13.535533905932738, 3.5355339059327373)]\n"
     ]
    }
   ],
   "source": [
    "import math\n",
    "# class\n",
    "class Robot:\n",
    "    def __init__(self,x=0,y=0,angle=0):\n",
    "        self.x, self.y, self.angle = x,y,angle\n",
    "        self.path = [(x,y)]\n",
    "    def move(self,l):\n",
    "        self.x += l* math.cos(self.angle)\n",
    "        self.y += l* math.sin(self.angle)\n",
    "        self.path.append( (self.x, self.y) )\n",
    "    def left(self,a):\n",
    "        self.angle += a\n",
    "    def right(self,a):\n",
    "        self.left(-a)\n",
    "        \n",
    "r = Robot()\n",
    "r.move(10)\n",
    "r.left(math.pi/4)\n",
    "r.move(5)\n",
    "print r.path"
   ]
  },
  {
   "cell_type": "code",
   "execution_count": 5,
   "metadata": {
    "collapsed": false
   },
   "outputs": [
    {
     "name": "stdout",
     "output_type": "stream",
     "text": [
      "0 1 4 9 16 25 36 49 64 81\n"
     ]
    }
   ],
   "source": [
    "# loops\n",
    "for i in range(10):\n",
    "    print i*i,"
   ]
  },
  {
   "cell_type": "code",
   "execution_count": 6,
   "metadata": {
    "collapsed": false
   },
   "outputs": [
    {
     "data": {
      "text/plain": [
       "[0, 1, 4, 9, 16, 25, 36, 49, 64, 81]"
      ]
     },
     "execution_count": 6,
     "metadata": {},
     "output_type": "execute_result"
    }
   ],
   "source": [
    "# map\n",
    "map(f, range(10))"
   ]
  },
  {
   "cell_type": "code",
   "execution_count": 7,
   "metadata": {
    "collapsed": false
   },
   "outputs": [
    {
     "name": "stdout",
     "output_type": "stream",
     "text": [
      "4\n"
     ]
    },
    {
     "data": {
      "text/plain": [
       "[0, 1, 8, 27, 64, 125, 216, 343, 512, 729]"
      ]
     },
     "execution_count": 7,
     "metadata": {},
     "output_type": "execute_result"
    }
   ],
   "source": [
    "# lambda\n",
    "g = lambda x: x*x\n",
    "print g(2)\n",
    "\n",
    "map(lambda x: x**3, range(10))"
   ]
  },
  {
   "cell_type": "code",
   "execution_count": 8,
   "metadata": {
    "collapsed": false
   },
   "outputs": [
    {
     "data": {
      "text/plain": [
       "[0, 1, 4, 9, 16, 25, 36, 49, 64, 81]"
      ]
     },
     "execution_count": 8,
     "metadata": {},
     "output_type": "execute_result"
    }
   ],
   "source": [
    "[ i*i for i in range(10) ]"
   ]
  },
  {
   "cell_type": "code",
   "execution_count": 9,
   "metadata": {
    "collapsed": false
   },
   "outputs": [
    {
     "name": "stdout",
     "output_type": "stream",
     "text": [
      "[1, 2, 3, 4, 5]\n",
      "[1, 4, 9, 16, 25]\n",
      "[(1, 1), (2, 4), (3, 9), (4, 16), (5, 25)]\n"
     ]
    },
    {
     "data": {
      "text/plain": [
       "[2, 6, 12, 20, 30]"
      ]
     },
     "execution_count": 9,
     "metadata": {},
     "output_type": "execute_result"
    }
   ],
   "source": [
    "x = [1,2,3,4,5]\n",
    "y = map(f,x)\n",
    "print x\n",
    "print y\n",
    "\n",
    "print zip(x,y)\n",
    "\n",
    "map(lambda t: t[0]+t[1], zip(x,y))"
   ]
  },
  {
   "cell_type": "code",
   "execution_count": 10,
   "metadata": {
    "collapsed": false
   },
   "outputs": [
    {
     "name": "stdout",
     "output_type": "stream",
     "text": [
      "3.14159265359 0.999999682932\n"
     ]
    }
   ],
   "source": [
    "# using math functions and routines\n",
    "import math\n",
    "\n",
    "print math.pi, math.sin(1.57)"
   ]
  },
  {
   "cell_type": "code",
   "execution_count": 11,
   "metadata": {
    "collapsed": false
   },
   "outputs": [
    {
     "name": "stdout",
     "output_type": "stream",
     "text": [
      "(2L, 5L)\n",
      "[[1 1]\n",
      " [2 2]\n",
      " [3 3]\n",
      " [4 4]\n",
      " [5 5]]\n"
     ]
    },
    {
     "data": {
      "text/plain": [
       "array([[ 2,  4,  6,  8, 10],\n",
       "       [ 4,  8, 12, 16, 20],\n",
       "       [ 6, 12, 18, 24, 30],\n",
       "       [ 8, 16, 24, 32, 40],\n",
       "       [10, 20, 30, 40, 50]])"
      ]
     },
     "execution_count": 11,
     "metadata": {},
     "output_type": "execute_result"
    }
   ],
   "source": [
    "# arrays: vectors and matrices\n",
    "import numpy as np\n",
    "a = np.array([l,l], dtype=np.int32)\n",
    "print a.shape\n",
    "print a.T\n",
    "\n",
    "b = np.dot(a.T,a)\n",
    "b"
   ]
  },
  {
   "cell_type": "code",
   "execution_count": 12,
   "metadata": {
    "collapsed": false
   },
   "outputs": [
    {
     "data": {
      "text/plain": [
       "array([[ 2,  4,  6],\n",
       "       [ 4,  8, 12]])"
      ]
     },
     "execution_count": 12,
     "metadata": {},
     "output_type": "execute_result"
    }
   ],
   "source": [
    "# slicing arrays\n",
    "b[0:2,:3]"
   ]
  },
  {
   "cell_type": "code",
   "execution_count": 13,
   "metadata": {
    "collapsed": false
   },
   "outputs": [
    {
     "name": "stdout",
     "output_type": "stream",
     "text": [
      "[ 0.84147098  0.90929743  0.14112001 -0.7568025  -0.95892427]\n"
     ]
    },
    {
     "data": {
      "text/plain": [
       "[0.8414709848078965,\n",
       " 0.9092974268256817,\n",
       " 0.1411200080598672,\n",
       " -0.7568024953079282,\n",
       " -0.9589242746631385]"
      ]
     },
     "execution_count": 13,
     "metadata": {},
     "output_type": "execute_result"
    }
   ],
   "source": [
    "# componentwise operations\n",
    "print np.sin(l)\n",
    "\n",
    "map(math.sin, l)"
   ]
  },
  {
   "cell_type": "code",
   "execution_count": 14,
   "metadata": {
    "collapsed": false
   },
   "outputs": [
    {
     "data": {
      "text/plain": [
       "array([[55, 55],\n",
       "       [55, 55]])"
      ]
     },
     "execution_count": 14,
     "metadata": {},
     "output_type": "execute_result"
    }
   ],
   "source": [
    "# matrix multiplication\n",
    "np.dot(a, a.T)"
   ]
  },
  {
   "cell_type": "code",
   "execution_count": 15,
   "metadata": {
    "collapsed": false
   },
   "outputs": [],
   "source": [
    "import matplotlib.pyplot as plt\n",
    "plt.plot([1,2,3,4,5],[5,4,3,2,1], '.r');\n",
    "plt.savefig('test.png', dpi=120)"
   ]
  },
  {
   "cell_type": "code",
   "execution_count": 16,
   "metadata": {
    "collapsed": false
   },
   "outputs": [
    {
     "name": "stdout",
     "output_type": "stream",
     "text": [
      "Populating the interactive namespace from numpy and matplotlib\n"
     ]
    },
    {
     "name": "stderr",
     "output_type": "stream",
     "text": [
      "WARNING: pylab import has clobbered these variables: ['f']\n",
      "`%matplotlib` prevents importing * from pylab and numpy\n"
     ]
    }
   ],
   "source": [
    "%pylab inline"
   ]
  },
  {
   "cell_type": "code",
   "execution_count": 17,
   "metadata": {
    "collapsed": false
   },
   "outputs": [
    {
     "data": {
      "image/png": "[encoded data removed]",
      "text/plain": [
       "<matplotlib.figure.Figure at 0xa8266d8>"
      ]
     },
     "metadata": {},
     "output_type": "display_data"
    }
   ],
   "source": [
    "plt.plot([1,2,3,4,5],[5,4,3,2,1], '.r');"
   ]
  },
  {
   "cell_type": "code",
   "execution_count": 18,
   "metadata": {
    "collapsed": false
   },
   "outputs": [
    {
     "data": {
      "image/png": "[encoded data removed]",
      "text/plain": [
       "<matplotlib.figure.Figure at 0xad2a198>"
      ]
     },
     "metadata": {},
     "output_type": "display_data"
    }
   ],
   "source": [
    "plt.hist(np.random.randn(1000));"
   ]
  },
  {
   "cell_type": "code",
   "execution_count": 19,
   "metadata": {
    "collapsed": false
   },
   "outputs": [
    {
     "name": "stdout",
     "output_type": "stream",
     "text": [
      "[ 0.20034925  0.51746534 -0.20651926 -1.40174533  1.68461001  2.25084343]\n"
     ]
    },
    {
     "data": {
      "text/html": [
       "<div style=\"max-height:1000px;max-width:1500px;overflow:auto;\">\n",
       "<table border=\"1\" class=\"dataframe\">\n",
       "  <thead>\n",
       "    <tr style=\"text-align: right;\">\n",
       "      <th></th>\n",
       "      <th>A</th>\n",
       "      <th>B</th>\n",
       "      <th>C</th>\n",
       "      <th>D</th>\n",
       "    </tr>\n",
       "  </thead>\n",
       "  <tbody>\n",
       "    <tr>\n",
       "      <th>2013-01-01</th>\n",
       "      <td> 0.466966</td>\n",
       "      <td> 0.200349</td>\n",
       "      <td>-1.212433</td>\n",
       "      <td> 2.722977</td>\n",
       "    </tr>\n",
       "    <tr>\n",
       "      <th>2013-01-02</th>\n",
       "      <td> 0.374871</td>\n",
       "      <td> 0.517465</td>\n",
       "      <td> 0.064590</td>\n",
       "      <td>-0.675072</td>\n",
       "    </tr>\n",
       "    <tr>\n",
       "      <th>2013-01-03</th>\n",
       "      <td> 0.975138</td>\n",
       "      <td>-0.206519</td>\n",
       "      <td> 0.092777</td>\n",
       "      <td>-1.101373</td>\n",
       "    </tr>\n",
       "    <tr>\n",
       "      <th>2013-01-04</th>\n",
       "      <td>-0.129623</td>\n",
       "      <td>-1.401745</td>\n",
       "      <td>-0.585021</td>\n",
       "      <td>-1.001936</td>\n",
       "    </tr>\n",
       "    <tr>\n",
       "      <th>2013-01-05</th>\n",
       "      <td>-1.348452</td>\n",
       "      <td> 1.684610</td>\n",
       "      <td> 0.305736</td>\n",
       "      <td>-0.213118</td>\n",
       "    </tr>\n",
       "    <tr>\n",
       "      <th>2013-01-06</th>\n",
       "      <td>-0.232381</td>\n",
       "      <td> 2.250843</td>\n",
       "      <td> 0.703302</td>\n",
       "      <td>-1.137505</td>\n",
       "    </tr>\n",
       "  </tbody>\n",
       "</table>\n",
       "</div>"
      ],
      "text/plain": [
       "                   A         B         C         D\n",
       "2013-01-01  0.466966  0.200349 -1.212433  2.722977\n",
       "2013-01-02  0.374871  0.517465  0.064590 -0.675072\n",
       "2013-01-03  0.975138 -0.206519  0.092777 -1.101373\n",
       "2013-01-04 -0.129623 -1.401745 -0.585021 -1.001936\n",
       "2013-01-05 -1.348452  1.684610  0.305736 -0.213118\n",
       "2013-01-06 -0.232381  2.250843  0.703302 -1.137505"
      ]
     },
     "execution_count": 19,
     "metadata": {},
     "output_type": "execute_result"
    }
   ],
   "source": [
    "import pandas as pd\n",
    "dates = pd.date_range('2013-01-01', periods=6);\n",
    "df = pd.DataFrame(np.random.randn(dates.size,4), index=dates, columns=list('ABCD'))\n",
    "\n",
    "a = np.array(df['B'])\n",
    "print a\n",
    "df"
   ]
  },
  {
   "cell_type": "code",
   "execution_count": 20,
   "metadata": {
    "collapsed": false
   },
   "outputs": [
    {
     "data": {
      "text/html": [
       "<div style=\"max-height:1000px;max-width:1500px;overflow:auto;\">\n",
       "<table border=\"1\" class=\"dataframe\">\n",
       "  <thead>\n",
       "    <tr style=\"text-align: right;\">\n",
       "      <th></th>\n",
       "      <th>X</th>\n",
       "      <th>Y</th>\n",
       "    </tr>\n",
       "  </thead>\n",
       "  <tbody>\n",
       "    <tr>\n",
       "      <th>0</th>\n",
       "      <td> 0</td>\n",
       "      <td> 0.000000</td>\n",
       "    </tr>\n",
       "    <tr>\n",
       "      <th>1</th>\n",
       "      <td> 1</td>\n",
       "      <td> 0.309017</td>\n",
       "    </tr>\n",
       "  </tbody>\n",
       "</table>\n",
       "</div>"
      ],
      "text/plain": [
       "   X         Y\n",
       "0  0  0.000000\n",
       "1  1  0.309017"
      ]
     },
     "execution_count": 20,
     "metadata": {},
     "output_type": "execute_result"
    },
    {
     "data": {
      "image/png": "[encoded data removed]",
      "text/plain": [
       "<matplotlib.figure.Figure at 0xad06a58>"
      ]
     },
     "metadata": {},
     "output_type": "display_data"
    }
   ],
   "source": [
    "df = pd.read_csv('files/test.csv')\n",
    "plt.plot(df['X'], df['Y'], '.r');\n",
    "df[:2]"
   ]
  },
  {
   "cell_type": "code",
   "execution_count": 21,
   "metadata": {
    "collapsed": false
   },
   "outputs": [
    {
     "name": "stdout",
     "output_type": "stream",
     "text": [
      "[ 112.230003  112.169998  112.029999  110.150002  110.230003  112.489998\n",
      "  108.970001  111.75      113.760002]\n"
     ]
    },
    {
     "data": {
      "text/html": [
       "<div style=\"max-height:1000px;max-width:1500px;overflow:auto;\">\n",
       "<table border=\"1\" class=\"dataframe\">\n",
       "  <thead>\n",
       "    <tr style=\"text-align: right;\">\n",
       "      <th></th>\n",
       "      <th>Open</th>\n",
       "      <th>High</th>\n",
       "      <th>Low</th>\n",
       "      <th>Close</th>\n",
       "      <th>Volume</th>\n",
       "      <th>Adj Close</th>\n",
       "    </tr>\n",
       "    <tr>\n",
       "      <th>Date</th>\n",
       "      <th></th>\n",
       "      <th></th>\n",
       "      <th></th>\n",
       "      <th></th>\n",
       "      <th></th>\n",
       "      <th></th>\n",
       "    </tr>\n",
       "  </thead>\n",
       "  <tbody>\n",
       "    <tr>\n",
       "      <th>2015-08-27</th>\n",
       "      <td> 112.230003</td>\n",
       "      <td> 113.239998</td>\n",
       "      <td> 110.019997</td>\n",
       "      <td> 112.919998</td>\n",
       "      <td> 84616100</td>\n",
       "      <td> 112.919998</td>\n",
       "    </tr>\n",
       "    <tr>\n",
       "      <th>2015-08-28</th>\n",
       "      <td> 112.169998</td>\n",
       "      <td> 113.309998</td>\n",
       "      <td> 111.540001</td>\n",
       "      <td> 113.290001</td>\n",
       "      <td> 53164400</td>\n",
       "      <td> 113.290001</td>\n",
       "    </tr>\n",
       "    <tr>\n",
       "      <th>2015-08-31</th>\n",
       "      <td> 112.029999</td>\n",
       "      <td> 114.529999</td>\n",
       "      <td> 112.000000</td>\n",
       "      <td> 112.760002</td>\n",
       "      <td> 56229300</td>\n",
       "      <td> 112.760002</td>\n",
       "    </tr>\n",
       "    <tr>\n",
       "      <th>2015-09-01</th>\n",
       "      <td> 110.150002</td>\n",
       "      <td> 111.879997</td>\n",
       "      <td> 107.360001</td>\n",
       "      <td> 107.720001</td>\n",
       "      <td> 76845900</td>\n",
       "      <td> 107.720001</td>\n",
       "    </tr>\n",
       "    <tr>\n",
       "      <th>2015-09-02</th>\n",
       "      <td> 110.230003</td>\n",
       "      <td> 112.339996</td>\n",
       "      <td> 109.129997</td>\n",
       "      <td> 112.339996</td>\n",
       "      <td> 61888800</td>\n",
       "      <td> 112.339996</td>\n",
       "    </tr>\n",
       "    <tr>\n",
       "      <th>2015-09-03</th>\n",
       "      <td> 112.489998</td>\n",
       "      <td> 112.779999</td>\n",
       "      <td> 110.040001</td>\n",
       "      <td> 110.370003</td>\n",
       "      <td> 52906400</td>\n",
       "      <td> 110.370003</td>\n",
       "    </tr>\n",
       "    <tr>\n",
       "      <th>2015-09-04</th>\n",
       "      <td> 108.970001</td>\n",
       "      <td> 110.449997</td>\n",
       "      <td> 108.510002</td>\n",
       "      <td> 109.269997</td>\n",
       "      <td> 49963900</td>\n",
       "      <td> 109.269997</td>\n",
       "    </tr>\n",
       "    <tr>\n",
       "      <th>2015-09-08</th>\n",
       "      <td> 111.750000</td>\n",
       "      <td> 112.559998</td>\n",
       "      <td> 110.320000</td>\n",
       "      <td> 112.309998</td>\n",
       "      <td> 54114200</td>\n",
       "      <td> 112.309998</td>\n",
       "    </tr>\n",
       "    <tr>\n",
       "      <th>2015-09-09</th>\n",
       "      <td> 113.760002</td>\n",
       "      <td> 114.019997</td>\n",
       "      <td> 109.769997</td>\n",
       "      <td> 110.150002</td>\n",
       "      <td> 84344400</td>\n",
       "      <td> 110.150002</td>\n",
       "    </tr>\n",
       "  </tbody>\n",
       "</table>\n",
       "</div>"
      ],
      "text/plain": [
       "                  Open        High         Low       Close    Volume  \\\n",
       "Date                                                                   \n",
       "2015-08-27  112.230003  113.239998  110.019997  112.919998  84616100   \n",
       "2015-08-28  112.169998  113.309998  111.540001  113.290001  53164400   \n",
       "2015-08-31  112.029999  114.529999  112.000000  112.760002  56229300   \n",
       "2015-09-01  110.150002  111.879997  107.360001  107.720001  76845900   \n",
       "2015-09-02  110.230003  112.339996  109.129997  112.339996  61888800   \n",
       "2015-09-03  112.489998  112.779999  110.040001  110.370003  52906400   \n",
       "2015-09-04  108.970001  110.449997  108.510002  109.269997  49963900   \n",
       "2015-09-08  111.750000  112.559998  110.320000  112.309998  54114200   \n",
       "2015-09-09  113.760002  114.019997  109.769997  110.150002  84344400   \n",
       "\n",
       "             Adj Close  \n",
       "Date                    \n",
       "2015-08-27  112.919998  \n",
       "2015-08-28  113.290001  \n",
       "2015-08-31  112.760002  \n",
       "2015-09-01  107.720001  \n",
       "2015-09-02  112.339996  \n",
       "2015-09-03  110.370003  \n",
       "2015-09-04  109.269997  \n",
       "2015-09-08  112.309998  \n",
       "2015-09-09  110.150002  "
      ]
     },
     "execution_count": 21,
     "metadata": {},
     "output_type": "execute_result"
    }
   ],
   "source": [
    "import pandas.io.data as web\n",
    "import datetime as dt\n",
    "\n",
    "df = web.DataReader('AAPL', 'yahoo', dt.datetime(2015,8,27), dt.datetime.now())\n",
    "print np.array(df.Open)\n",
    "df"
   ]
  },
  {
   "cell_type": "markdown",
   "metadata": {},
   "source": [
    "### Modules\n",
    "\n",
    "- Computation\n",
    "\n",
    "> [numpy](http://www.numpy.org/): arrays, vectorized functions, ...\n",
    "\n",
    "> [scipy](http://www.scipy.org/): stats, solvers, ...\n",
    "\n",
    "> [sklearn](http://scikit-learn.org/stable/index.html): machine learning, ...\n",
    "\n",
    "- Data \n",
    "\n",
    "> [pandas](http://pandas.pydata.org/pandas-docs/stable/10min.html): data structures, time series, ...\n",
    "\n",
    "- Plotting\n",
    "\n",
    "> [matplotlib](http://matplotlib.org/index.html): publication quality figures, animations, ...\n",
    "\n",
    "> [seaborn](http://stanford.edu/~mwaskom/software/seaborn/#): statistical data visualization\n",
    "\n"
   ]
  },
  {
   "cell_type": "code",
   "execution_count": 22,
   "metadata": {
    "collapsed": false
   },
   "outputs": [
    {
     "data": {
      "image/png": "[encoded data removed]",
      "text/plain": [
       "<matplotlib.figure.Figure at 0xad06b38>"
      ]
     },
     "metadata": {},
     "output_type": "display_data"
    }
   ],
   "source": [
    "import seaborn as sns\n",
    "sns.distplot(np.random.randn(1000));"
   ]
  },
  {
   "cell_type": "code",
   "execution_count": 23,
   "metadata": {
    "collapsed": false
   },
   "outputs": [
    {
     "name": "stdout",
     "output_type": "stream",
     "text": [
      "11.5\n"
     ]
    }
   ],
   "source": [
    "from sklearn import linear_model\n",
    "clf = linear_model.LinearRegression()\n",
    "clf.fit ( [[0],[1],[2]], [10, 11, 12]);\n",
    "print clf.predict([1.5])"
   ]
  },
  {
   "cell_type": "markdown",
   "metadata": {
    "slideshow": {
     "slide_type": "slide"
    }
   },
   "source": [
    "<h1><font color=\"darkblue\"> Anscombe's Quartet</font></h1>"
   ]
  },
  {
   "cell_type": "markdown",
   "metadata": {},
   "source": [
    "### A Cautionary Tale\n",
    "\n",
    "- Four different datasets $\\big\\{(x_i,y_i)\\big\\}$ with the \n",
    "\n",
    "> Same number of points\n",
    "\n",
    "> Same mean\n",
    "\n",
    "> Same variance\n",
    "\n",
    "> Same correlations\n",
    "\n",
    "> Same linear fits\n",
    "\n",
    "- They must be the same, right?"
   ]
  },
  {
   "cell_type": "code",
   "execution_count": 24,
   "metadata": {
    "collapsed": false
   },
   "outputs": [
    {
     "data": {
      "text/html": [
       "<div style=\"max-height:1000px;max-width:1500px;overflow:auto;\">\n",
       "<table border=\"1\" class=\"dataframe\">\n",
       "  <thead>\n",
       "    <tr style=\"text-align: right;\">\n",
       "      <th></th>\n",
       "      <th>dataset</th>\n",
       "      <th>x</th>\n",
       "      <th>y</th>\n",
       "    </tr>\n",
       "  </thead>\n",
       "  <tbody>\n",
       "    <tr>\n",
       "      <th>0</th>\n",
       "      <td> I</td>\n",
       "      <td> 10</td>\n",
       "      <td> 8.04</td>\n",
       "    </tr>\n",
       "    <tr>\n",
       "      <th>1</th>\n",
       "      <td> I</td>\n",
       "      <td>  8</td>\n",
       "      <td> 6.95</td>\n",
       "    </tr>\n",
       "    <tr>\n",
       "      <th>2</th>\n",
       "      <td> I</td>\n",
       "      <td> 13</td>\n",
       "      <td> 7.58</td>\n",
       "    </tr>\n",
       "  </tbody>\n",
       "</table>\n",
       "</div>"
      ],
      "text/plain": [
       "  dataset   x     y\n",
       "0       I  10  8.04\n",
       "1       I   8  6.95\n",
       "2       I  13  7.58"
      ]
     },
     "execution_count": 24,
     "metadata": {},
     "output_type": "execute_result"
    },
    {
     "data": {
      "image/png": "[encoded data removed]",
      "text/plain": [
       "<matplotlib.figure.Figure at 0x1ad7a278>"
      ]
     },
     "metadata": {},
     "output_type": "display_data"
    }
   ],
   "source": [
    "sns.set(style=\"ticks\")\n",
    "\n",
    "# Load the example dataset for Anscombe's quartet\n",
    "df = sns.load_dataset(\"anscombe\")\n",
    "\n",
    "# Plot all 4\n",
    "sns.lmplot(x=\"x\", y=\"y\", col=\"dataset\", hue=\"dataset\", \n",
    "           data=df, col_wrap=2, ci=None, palette=\"muted\", \n",
    "           size=3, scatter_kws={\"s\": 50, \"alpha\": 0.5});\n",
    "\n",
    "df[:3]"
   ]
  },
  {
   "cell_type": "markdown",
   "metadata": {
    "slideshow": {
     "slide_type": "slide"
    }
   },
   "source": [
    "<h1><font color=\"darkblue\">Average and KDE</font></h1>"
   ]
  },
  {
   "cell_type": "markdown",
   "metadata": {},
   "source": [
    "### The connection\n",
    "\n",
    "- The expectation value is\n",
    "\n",
    "> $\\displaystyle \\mathbb{E}[X] = \\int x\\,p(x)\\,dx$\n",
    "\n",
    "- Given a data set $\\{x_i\\}$ we could estimate\n",
    "\n",
    "> $\\displaystyle p(x) \\approx \\frac{1}{N} \\sum_{i=1}^N K_h(x\\!-\\!x_i)$\n",
    "\n"
   ]
  },
  {
   "cell_type": "markdown",
   "metadata": {},
   "source": [
    "### Detour: Dirac delta\n",
    "\n",
    "- In the limit of $h\\rightarrow{}0$, the kernel will become strange:\n",
    "\n",
    "<img src=\"files/488px-Dirac_distribution_PDF.svg.png\" align=right width=250>\n",
    "\n",
    "> **Dirac's $\\delta$** \"function\" is 0 everywhere except at 0 such that\n",
    "\n",
    "> $\\displaystyle \\int \\delta(x)\\,dx = 1$\n",
    "\n",
    "- Interesting properties, e.g., \n",
    "\n",
    "> $\\displaystyle \\int f(x)\\,\\delta(x\\!-\\!a)\\,dx = f(a)$\n",
    "\n",
    "-  See **distribution theory** and **functionals** for more background"
   ]
  },
  {
   "cell_type": "markdown",
   "metadata": {},
   "source": [
    "### Result \n",
    "\n",
    "- Bad density estimation but if...\n",
    "\n",
    "> $\\displaystyle p(x) = \\frac{1}{N} \\sum_{i=1}^N \\delta(x\\!-\\!x_i)$\n",
    "\n",
    "- The expectation value\n",
    "\n",
    "> $\\displaystyle \\mathbb{E}[X] =  \\int x\\, \\frac{1}{N} \\sum_{i=1}^N  \\delta(x\\!-\\!x_i) \\,dx$\n",
    "\n",
    "> $\\displaystyle \\mathbb{E}[X] = \\frac{1}{N} \\sum_{i=1}^N \\int x\\, \\delta(x\\!-\\!x_i) \\,dx$\n",
    "\n",
    "> $\\displaystyle \\mathbb{E}[X] = \\frac{1}{N} \\sum_{i=1}^N x_i$\n",
    "\n"
   ]
  }
 ],
 "metadata": {
  "kernelspec": {
   "display_name": "Python [Root]",
   "language": "python",
   "name": "Python [Root]"
  },
  "language_info": {
   "codemirror_mode": {
    "name": "ipython",
    "version": 3
   },
   "file_extension": ".py",
   "mimetype": "text/x-python",
   "name": "python",
   "nbconvert_exporter": "python",
   "pygments_lexer": "ipython3",
   "version": "3.5.2"
  }
 },
 "nbformat": 4,
 "nbformat_minor": 0
}
