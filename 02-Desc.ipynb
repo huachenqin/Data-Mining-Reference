{
 "cells": [
  {
   "cell_type": "markdown",
   "metadata": {
    "slideshow": {
     "slide_type": "slide"
    }
   },
   "source": [
    "<hr/>\n",
    "\n",
    "#Data Mining [EN.550.436]\n",
    "**Tamás Budavári** - budavari@jhu.edu <br/>\n",
    "**Class 2** - Sept 1, 2015\n",
    "\n",
    "<hr/>\n"
   ]
  },
  {
   "cell_type": "markdown",
   "metadata": {
    "slideshow": {
     "slide_type": "slide"
    }
   },
   "source": [
    "<h1><font color=\"darkblue\">Descriptive Statistics</font></h1>"
   ]
  },
  {
   "cell_type": "markdown",
   "metadata": {},
   "source": [
    "### Data Sets\n",
    "\n",
    "- For example, a set of $N$ scalar measurements \n",
    "\n",
    "> $\\displaystyle \\big\\{x_i\\big\\}_{i=1}^N$"
   ]
  },
  {
   "cell_type": "markdown",
   "metadata": {},
   "source": [
    "### How to characterize the data?\n",
    "- Location\n",
    "- Dispersion\n",
    "- Shape?"
   ]
  },
  {
   "cell_type": "markdown",
   "metadata": {},
   "source": [
    "### IPython Notebook\n",
    "- Interactive data analysis made easy\n",
    "- And here is how you do it:"
   ]
  },
  {
   "cell_type": "code",
   "execution_count": 1,
   "metadata": {
    "collapsed": false
   },
   "outputs": [
    {
     "name": "stdout",
     "output_type": "stream",
     "text": [
      "Populating the interactive namespace from numpy and matplotlib\n"
     ]
    }
   ],
   "source": [
    "%pylab inline "
   ]
  },
  {
   "cell_type": "code",
   "execution_count": 2,
   "metadata": {
    "collapsed": false
   },
   "outputs": [],
   "source": [
    "N = 100;\n",
    "x = np.random.randn(N);"
   ]
  },
  {
   "cell_type": "code",
   "execution_count": 3,
   "metadata": {
    "collapsed": false
   },
   "outputs": [
    {
     "name": "stdout",
     "output_type": "stream",
     "text": [
      "-0.441104, -0.088182, ..., 1.270186\n",
      "1.270186 = 1.270186\n"
     ]
    }
   ],
   "source": [
    "# indexing from 0\n",
    "print \"%f, %f, ..., %f\" % (x[0], x[1], x[N-1]) \n",
    "# last element\n",
    "print \"%f = %f\" % (x[N-1], x[-1])"
   ]
  },
  {
   "cell_type": "code",
   "execution_count": 4,
   "metadata": {
    "collapsed": false
   },
   "outputs": [
    {
     "name": "stdout",
     "output_type": "stream",
     "text": [
      "97 : \t -0.3898048099620911\n",
      "98 : \t -0.15756272958256473\n",
      "99 : \t 1.2701862858885296\n"
     ]
    },
    {
     "ename": "IndexError",
     "evalue": "index 100 is out of bounds for axis 0 with size 100",
     "output_type": "error",
     "traceback": [
      "\u001b[1;31m---------------------------------------------------------------------------\u001b[0m",
      "\u001b[1;31mIndexError\u001b[0m                                Traceback (most recent call last)",
      "\u001b[1;32m<ipython-input-4-0407b1267408>\u001b[0m in \u001b[0;36m<module>\u001b[1;34m()\u001b[0m\n\u001b[0;32m      1\u001b[0m \u001b[1;31m# index out of bounds\u001b[0m\u001b[1;33m\u001b[0m\u001b[1;33m\u001b[0m\u001b[0m\n\u001b[0;32m      2\u001b[0m \u001b[1;32mfor\u001b[0m \u001b[0mi\u001b[0m \u001b[1;32min\u001b[0m \u001b[0mrange\u001b[0m\u001b[1;33m(\u001b[0m\u001b[0mN\u001b[0m\u001b[1;33m-\u001b[0m\u001b[1;36m3\u001b[0m\u001b[1;33m,\u001b[0m\u001b[0mN\u001b[0m\u001b[1;33m+\u001b[0m\u001b[1;36m1\u001b[0m\u001b[1;33m)\u001b[0m\u001b[1;33m:\u001b[0m\u001b[1;33m\u001b[0m\u001b[0m\n\u001b[1;32m----> 3\u001b[1;33m     \u001b[1;32mprint\u001b[0m \u001b[1;34m\"%d : \\t %r\"\u001b[0m \u001b[1;33m%\u001b[0m \u001b[1;33m(\u001b[0m\u001b[0mi\u001b[0m\u001b[1;33m,\u001b[0m \u001b[0mx\u001b[0m\u001b[1;33m[\u001b[0m\u001b[0mi\u001b[0m\u001b[1;33m]\u001b[0m\u001b[1;33m)\u001b[0m\u001b[1;33m\u001b[0m\u001b[0m\n\u001b[0m",
      "\u001b[1;31mIndexError\u001b[0m: index 100 is out of bounds for axis 0 with size 100"
     ]
    }
   ],
   "source": [
    "# index out of bounds\n",
    "for i in range(N-3,N+1):\n",
    "    print \"%d : \\t %r\" % (i, x[i])"
   ]
  },
  {
   "cell_type": "code",
   "execution_count": 5,
   "metadata": {
    "collapsed": false
   },
   "outputs": [
    {
     "name": "stdout",
     "output_type": "stream",
     "text": [
      "97 : \t -0.3898048099620911\n",
      "98 : \t -0.15756272958256473\n",
      "99 : \t 1.2701862858885296\n",
      "index 100 is out of bounds for axis 0 with size 100\n"
     ]
    }
   ],
   "source": [
    "# error handling with exceptions\n",
    "for i in range(N-3,N+1):\n",
    "    try: \n",
    "        print \"%d : \\t %r\" % (i, x[i])\n",
    "    except IndexError as err: \n",
    "        print err"
   ]
  },
  {
   "cell_type": "code",
   "execution_count": 6,
   "metadata": {
    "collapsed": false
   },
   "outputs": [
    {
     "data": {
      "image/png": "[encoded data removed]",
      "text/plain": [
       "<matplotlib.figure.Figure at 0x9ced898>"
      ]
     },
     "metadata": {},
     "output_type": "display_data"
    }
   ],
   "source": [
    "plot(x,'.');"
   ]
  },
  {
   "cell_type": "code",
   "execution_count": 7,
   "metadata": {
    "collapsed": false
   },
   "outputs": [
    {
     "data": {
      "image/png": "[encoded data removed]",
      "text/plain": [
       "<matplotlib.figure.Figure at 0x9dcc518>"
      ]
     },
     "metadata": {},
     "output_type": "display_data"
    }
   ],
   "source": [
    "hist(x,10);"
   ]
  },
  {
   "cell_type": "markdown",
   "metadata": {},
   "source": [
    "###Location\n",
    "- Mode \n",
    "    - where it peaks\n",
    "    - unimodal vs multimodal\n",
    "\n",
    "- Sample average\n",
    "\n",
    "> $\\displaystyle \\bar{x} = \\frac{1}{N} \\sum_{i=1}^N x_i$\n",
    "\n",
    "> but indexing starts with 0 in Python and most computer languages\n",
    "\n",
    "> $\\displaystyle \\bar{x} = \\frac{1}{N} \\sum_{i=0}^{N-1} x_i$\n",
    "\n",
    "- Median\n",
    "\n",
    "> The number that separates the higher half of the set from the lower half\n"
   ]
  },
  {
   "cell_type": "code",
   "execution_count": 8,
   "metadata": {
    "collapsed": false
   },
   "outputs": [
    {
     "name": "stdout",
     "output_type": "stream",
     "text": [
      "-0.17840109384629613 = -0.17840109384629613\n"
     ]
    }
   ],
   "source": [
    "avg = np.sum(x) / N \n",
    "print \"%r = %r\" % (avg, np.mean(x))"
   ]
  },
  {
   "cell_type": "code",
   "execution_count": 9,
   "metadata": {
    "collapsed": false
   },
   "outputs": [
    {
     "name": "stdout",
     "output_type": "stream",
     "text": [
      "-0.139746121636\n"
     ]
    }
   ],
   "source": [
    "med = np.median(x)\n",
    "print med"
   ]
  },
  {
   "cell_type": "code",
   "execution_count": 10,
   "metadata": {
    "collapsed": false,
    "scrolled": true
   },
   "outputs": [
    {
     "data": {
      "text/plain": [
       "(-30, 20)"
      ]
     },
     "execution_count": 10,
     "metadata": {},
     "output_type": "execute_result"
    },
    {
     "data": {
      "image/png": "[encoded data removed]",
      "text/plain": [
       "<matplotlib.figure.Figure at 0x9db2470>"
      ]
     },
     "metadata": {},
     "output_type": "display_data"
    }
   ],
   "source": [
    "fig = figure() # (figsize=(4,4))\n",
    "ax = fig.add_subplot(1,1,1)\n",
    "ax.hist(x,10)\n",
    "ax.arrow(avg,0,0,5,color='r')\n",
    "ax.arrow(med,5,0,5,color='y')\n",
    "ax.set_xlim(-30, 20)"
   ]
  },
  {
   "cell_type": "markdown",
   "metadata": {},
   "source": [
    "### Dispersion\n",
    "- Sample variance\n",
    "\n",
    "> $\\displaystyle s^2 = \\frac{1}{N\\!-\\!1} \\sum_{i=1}^N \\left(x_i - \\bar{x}\\right)^2$\n",
    "\n",
    "- Standard deviation\n",
    "\n",
    "> $\\displaystyle s = \\sqrt{s^2}$"
   ]
  },
  {
   "cell_type": "code",
   "execution_count": 11,
   "metadata": {
    "collapsed": false
   },
   "outputs": [
    {
     "data": {
      "image/png": "[encoded data removed]",
      "text/plain": [
       "<matplotlib.figure.Figure at 0xa011898>"
      ]
     },
     "metadata": {},
     "output_type": "display_data"
    }
   ],
   "source": [
    "hist(x,10);"
   ]
  },
  {
   "cell_type": "markdown",
   "metadata": {},
   "source": [
    "### Outliers\n",
    "- What if just one element is too large, e.g., erroneously becomes $+\\infty$\n",
    "- Sample average $\\bar{x} \\rightarrow +\\infty$\n",
    "- Sample variance explodes, too\n",
    "\n",
    "    **Ouch !!**\n"
   ]
  },
  {
   "cell_type": "code",
   "execution_count": 12,
   "metadata": {
    "collapsed": false
   },
   "outputs": [
    {
     "data": {
      "image/png": "[encoded data removed]",
      "text/plain": [
       "<matplotlib.figure.Figure at 0xa404ac8>"
      ]
     },
     "metadata": {},
     "output_type": "display_data"
    }
   ],
   "source": [
    "x[0] = 57\n",
    "hist(x,100);"
   ]
  },
  {
   "cell_type": "markdown",
   "metadata": {},
   "source": [
    "### Robustness\n",
    "- Robust against outliers? What fraction can we tolerate?\n",
    "- Median is more robust than the mean\n",
    "- Median Absolute Deviation (MAD) for dispersion"
   ]
  },
  {
   "cell_type": "code",
   "execution_count": 13,
   "metadata": {
    "collapsed": false
   },
   "outputs": [
    {
     "name": "stdout",
     "output_type": "stream",
     "text": [
      "Average old vs new: -0.178401093846 9999999.82601\n",
      "Median  old vs new: -0.139746121636 -0.128859014879\n"
     ]
    }
   ],
   "source": [
    "x[0] = 1e9\n",
    "print 'Average old vs new:', avg, mean(x)\n",
    "print 'Median  old vs new:', med, median(x)"
   ]
  },
  {
   "cell_type": "markdown",
   "metadata": {},
   "source": [
    "### Probability Density Function\n",
    "- PDF a.k.a. Probability Distribution Density Function\n",
    "- Probabiliy of $x$ between $a$ and $b$ for any $(a,b)$ is\n",
    "\n",
    "> $\\displaystyle P_{ab} = \\int_a^b p(x)\\,dx$\n",
    "\n",
    "- Always \n",
    "\n",
    "> $\\displaystyle  \\int_{-\\infty}^{\\infty} p(x)\\,dx = 1$\n",
    "\n",
    "\n",
    "- Example 1: uniform distribution on $(a,b)$\n",
    "\n",
    "> $\\displaystyle  U(x;a,b) = \\frac{\\mathbb{1}_{ab}(x)}{b\\!-\\!a} $\n",
    "\n",
    "- Example 2: Gaussian or normal distribution\n",
    "\n",
    "> $\\displaystyle  G(x;\\mu,\\sigma) = \\frac{\\pmb{1}}{\\sqrt{2\\pi\\sigma^2}}\\ \\exp\\left[{-\\frac{(x\\!-\\!\\mu)^2}{\\sigma^2} }\\right]$\n",
    "\n",
    "- Example 3: Log-normal"
   ]
  },
  {
   "cell_type": "markdown",
   "metadata": {},
   "source": [
    "### Gauss on Money!\n",
    "\n",
    "<!--\n",
    "<img src='https://upload.wikimedia.org/wikipedia/commons/thumb/f/fd/DEU-10m-anv.jpg/640px-DEU-10m-anv.jpg' width=400>\n",
    "-->\n",
    "<img src='files/640px-DEU-10m-anv.jpg' width=400 align=left>"
   ]
  },
  {
   "cell_type": "markdown",
   "metadata": {},
   "source": [
    "- Even the formula\n",
    "\n",
    "<img src='files/10DM.jpg' width=400 align=left>"
   ]
  },
  {
   "cell_type": "markdown",
   "metadata": {},
   "source": [
    "### Cummulative Distribution Function\n",
    "- Integral up to given $x$: prob of being less than $x$\n",
    "\n",
    "> $\\displaystyle \\mathrm{CDF}(x) = \\int_{-\\infty}^{x} p(t)\\,dt$"
   ]
  },
  {
   "cell_type": "code",
   "execution_count": 14,
   "metadata": {
    "collapsed": false
   },
   "outputs": [
    {
     "data": {
      "image/png": "[encoded data removed]",
      "text/plain": [
       "<matplotlib.figure.Figure at 0xb31d320>"
      ]
     },
     "metadata": {},
     "output_type": "display_data"
    }
   ],
   "source": [
    "from scipy.stats import norm as gaussian\n",
    "x = np.linspace(-6,6,1000) \n",
    "mu, sig = 0, 2\n",
    "plot(x, gaussian.pdf(x,mu,sig));\n",
    "plot(x, gaussian.cdf(x,mu,sig));"
   ]
  },
  {
   "cell_type": "code",
   "execution_count": 15,
   "metadata": {
    "collapsed": false
   },
   "outputs": [
    {
     "ename": "AttributeError",
     "evalue": "'function' object has no attribute 'pdf'",
     "output_type": "error",
     "traceback": [
      "\u001b[1;31m---------------------------------------------------------------------------\u001b[0m",
      "\u001b[1;31mAttributeError\u001b[0m                            Traceback (most recent call last)",
      "\u001b[1;32m<ipython-input-15-845d841f4da9>\u001b[0m in \u001b[0;36m<module>\u001b[1;34m()\u001b[0m\n\u001b[0;32m      1\u001b[0m \u001b[1;32mfrom\u001b[0m \u001b[0mscipy\u001b[0m\u001b[1;33m.\u001b[0m\u001b[0mstats\u001b[0m \u001b[1;32mimport\u001b[0m \u001b[0mlognorm\u001b[0m\u001b[1;33m\u001b[0m\u001b[0m\n\u001b[1;32m----> 2\u001b[1;33m \u001b[0mplot\u001b[0m\u001b[1;33m(\u001b[0m\u001b[0mx\u001b[0m\u001b[1;33m,\u001b[0m \u001b[0mnorm\u001b[0m\u001b[1;33m.\u001b[0m\u001b[0mpdf\u001b[0m\u001b[1;33m(\u001b[0m\u001b[0mx\u001b[0m\u001b[1;33m,\u001b[0m\u001b[1;36m0\u001b[0m\u001b[1;33m,\u001b[0m\u001b[0msig\u001b[0m\u001b[1;33m)\u001b[0m\u001b[1;33m)\u001b[0m\u001b[1;33m;\u001b[0m\u001b[1;33m\u001b[0m\u001b[0m\n\u001b[0m\u001b[0;32m      3\u001b[0m \u001b[0mplot\u001b[0m\u001b[1;33m(\u001b[0m\u001b[0mx\u001b[0m\u001b[1;33m,\u001b[0m \u001b[0mlognorm\u001b[0m\u001b[1;33m.\u001b[0m\u001b[0mpdf\u001b[0m\u001b[1;33m(\u001b[0m\u001b[0mx\u001b[0m\u001b[1;33m,\u001b[0m\u001b[0msig\u001b[0m\u001b[1;33m)\u001b[0m\u001b[1;33m,\u001b[0m \u001b[0mcolor\u001b[0m\u001b[1;33m=\u001b[0m\u001b[1;34m'r'\u001b[0m\u001b[1;33m)\u001b[0m\u001b[1;33m;\u001b[0m\u001b[1;33m\u001b[0m\u001b[0m\n",
      "\u001b[1;31mAttributeError\u001b[0m: 'function' object has no attribute 'pdf'"
     ]
    }
   ],
   "source": [
    "from scipy.stats import lognorm\n",
    "plot(x, norm.pdf(x,0,sig));\n",
    "plot(x, lognorm.pdf(x,sig), color='r');"
   ]
  },
  {
   "cell_type": "markdown",
   "metadata": {},
   "source": [
    "### Characterization of PDFs\n",
    "\n",
    "- Expectation value of $x$\n",
    "\n",
    "> $\\displaystyle \\mu = \\mathbb{E}[x] = \\int_{-\\infty}^{\\infty}\\! x\\ p(x)dx$\n",
    "\n",
    "- Expectation value of any $f(x)$\n",
    "\n",
    "> $\\displaystyle \\mathbb{E}[f(x)] = \\int_{-\\infty}^{\\infty}\\! f(x)\\ p(x)dx$\n",
    "\n",
    "- Moments \n",
    "\n",
    "> $\\displaystyle \\mathbb{E}[x^k]$\n",
    "    \n",
    "- Central moments \n",
    "\n",
    "> $\\displaystyle \\mathbb{E}\\big[(x\\!-\\!\\mu)^k\\big]$\n",
    "\n",
    "- Variance\n",
    "\n",
    "> $\\displaystyle \\mathbb{Var}[x] = \\mathbb{E}\\big[(x\\!-\\!\\mu)^2\\big]$\n",
    "\n",
    "- Standard deviation\n",
    "\n",
    "> $\\displaystyle \\sigma = \\sqrt{\\mathbb{Var}[x]}$\n",
    "\n",
    "- Normalized moments\n",
    "\n",
    "> $\\displaystyle \\mathbb{E}\\left[\\left(\\frac{x\\!-\\!\\mu}{\\sigma}\\right)^k\\right]$\n",
    "\n",
    "- Skewness\n",
    "\n",
    "> 3rd normalized moment ($k$=3)\n",
    "\n",
    "- Kurtosis\n",
    "\n",
    "> 4th normalized moment ($k$=4)\n",
    " \n"
   ]
  },
  {
   "cell_type": "markdown",
   "metadata": {},
   "source": [
    "<img src=\"files/skew_kurt.png\" width=400 align=left>"
   ]
  },
  {
   "cell_type": "code",
   "execution_count": 18,
   "metadata": {
    "collapsed": false
   },
   "outputs": [
    {
     "name": "stdout",
     "output_type": "stream",
     "text": [
      "0 2 -> 0.0 4.0 0.0 0.0\n"
     ]
    }
   ],
   "source": [
    "mean, var, skew, kurt = gaussian.stats(mu, sig, moments='mvsk');\n",
    "print mu, sig, '->', mean, var, skew, kurt"
   ]
  },
  {
   "cell_type": "code",
   "execution_count": 19,
   "metadata": {
    "collapsed": false
   },
   "outputs": [
    {
     "name": "stdout",
     "output_type": "stream",
     "text": [
      "2 -> 7.38905609893 2926.35983701 414.3593433 9220556.97731\n"
     ]
    }
   ],
   "source": [
    "mean, var, skew, kurt = lognorm.stats(sig, moments='mvsk');\n",
    "print sig, '->', mean, var, skew, kurt"
   ]
  },
  {
   "cell_type": "markdown",
   "metadata": {},
   "source": [
    "### Sampling from distributions\n",
    "- Uniformly using random numbers between 0 and 1\n",
    "- Rejection sampling, e.g., circle sampling\n",
    "- Inverse transform sampling\n",
    "\n",
    "<!--\n",
    "<img src=\"https://upload.wikimedia.org/wikipedia/en/6/66/Circle_sampling.png\" alt=\"Circle sampling.png\" height=\"200\" width=\"200\" align=left>\n",
    "-->\n",
    "<img src=\"files/Circle_sampling.png\" alt=\"Circle sampling.png from wikimedia.org\" height=\"200\" width=\"200\" align=left>"
   ]
  },
  {
   "cell_type": "markdown",
   "metadata": {},
   "source": [
    "<img src=\"files/inv.png\" height=\"400\" width=\"400\" align=left>"
   ]
  }
 ],
 "metadata": {
  "kernelspec": {
   "display_name": "Python [Root]",
   "language": "python",
   "name": "Python [Root]"
  },
  "language_info": {
   "codemirror_mode": {
    "name": "ipython",
    "version": 3
   },
   "file_extension": ".py",
   "mimetype": "text/x-python",
   "name": "python",
   "nbconvert_exporter": "python",
   "pygments_lexer": "ipython3",
   "version": "3.5.2"
  }
 },
 "nbformat": 4,
 "nbformat_minor": 0
}
