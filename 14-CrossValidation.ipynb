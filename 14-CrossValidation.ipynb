{
 "cells": [
  {
   "cell_type": "markdown",
   "metadata": {
    "slideshow": {
     "slide_type": "slide"
    }
   },
   "source": [
    "<hr/>\n",
    "\n",
    "# Data Mining [EN.550.436]\n",
    "**Tamás Budavári** - budavari@jhu.edu <br/>\n",
    "**Class 14** - Oct 13, 2015\n",
    "\n",
    "- Cross-validation\n",
    "\n",
    "<hr/>"
   ]
  },
  {
   "cell_type": "markdown",
   "metadata": {
    "slideshow": {
     "slide_type": "slide"
    }
   },
   "source": [
    "<h1><font color=\"darkblue\">Cross-Validation</font></h1>\n",
    "\n",
    "- How to evaluate the quality of estimator?\n",
    "\n",
    "> $k$-NN method's parameter affects the results\n",
    "\n",
    "- We saw on the IRIS data that 1-NN was overfitting\n",
    "\n",
    "> We discussed excluding the point itself"
   ]
  },
  {
   "cell_type": "markdown",
   "metadata": {},
   "source": [
    "### Partitions of the Training set\n",
    "\n",
    "- Random complementary subsets \n",
    "\n",
    "> Train on a larger subset, test on a small\n",
    "\n",
    "> Multiple rounds to decrease variance"
   ]
  },
  {
   "cell_type": "markdown",
   "metadata": {},
   "source": [
    "### Leave-One-Out\n",
    "\n",
    "- For each point, we train on the others and test\n",
    "\n",
    "> Testing on $n$ points requires $n$ training \n",
    "\n",
    "- Expensive!"
   ]
  },
  {
   "cell_type": "markdown",
   "metadata": {
    "slideshow": {
     "slide_type": "slide"
    }
   },
   "source": [
    "### A Relaxed Variant\n",
    "\n",
    "- $k$-fold cross-validation \n",
    "\n",
    "> 0. Create $k$ partitions of equal sizes, e.g., $k=2$ yields two subsets\n",
    "> 0. Pick a single partition and train on the other $(k\\!-\\!1)$ \n",
    "> 0. Repeat for all $k$ partitions - requires $k$ trainings\n",
    "\n",
    "- Leave-One-Out is a special case with $k=n$\n"
   ]
  },
  {
   "cell_type": "markdown",
   "metadata": {},
   "source": [
    "### Exercise: Cross-Validation\n",
    "\n",
    "- Evaluate \"QDA\" on the [training](files/Class12-Train.csv) set using 2-fold cross-validation\n",
    "\n",
    ">0. What is the fraction of correct estimates? \n",
    ">0. What is the uncertainty of that fraction?\n",
    " \n",
    "> The **training** set consists of 3 columns of ($x_i$, $y_i$, $C_i$)\n",
    "\n",
    "\n",
    "- Place post-it on your laptop to indicate your status and if you need help\n"
   ]
  },
  {
   "cell_type": "code",
   "execution_count": 1,
   "metadata": {
    "collapsed": false
   },
   "outputs": [
    {
     "name": "stdout",
     "output_type": "stream",
     "text": [
      "Populating the interactive namespace from numpy and matplotlib\n"
     ]
    }
   ],
   "source": [
    "%pylab inline"
   ]
  },
  {
   "cell_type": "code",
   "execution_count": null,
   "metadata": {
    "collapsed": false
   },
   "outputs": [],
   "source": [
    "from sklearn.qda import QDA\n",
    "# randomize and split to D1 + D2\n",
    "np.random.shuffle(D)\n",
    "split = D[:,0].size / 2\n",
    "D1, D2 = D[:split,:], D[split:,:]\n",
    "# train on one estimate on the other\n",
    "for (i,T,Q) in [(1,D1,D2),(2,D2,D1)]:\n",
    "    X, C = T[:,0:2], T[:,2]\n",
    "    Cpred = QDA().fit(X,C).predict(Q)\n",
    "    Ctrue = Q[:,2]\n",
    "    print \"Case #%d - Number of mislabeled points out of a total %3d points : %2d\" \\\n",
    "        % (i, Q.shape[0],(Ctrue!=Cpred).sum()) "
   ]
  },
  {
   "cell_type": "markdown",
   "metadata": {},
   "source": [
    "### Done already?\n",
    "\n",
    "- Visualize the results in the 2D features space\n",
    "- Make these simple codes run faster \n"
   ]
  },
  {
   "cell_type": "markdown",
   "metadata": {},
   "source": [
    "<h1><font color=\"darkblue\">Assignments #2</font></h1>\n",
    "\n",
    "Submit your notebooks on Blackboard before 5pm on Friday, Oct 16th <br/>\n",
    "(Total points: 13)\n",
    "\n",
    "- Implement LDA and compare to sklearn (6)\n",
    "\n",
    ">0. Write code without using sklearn (4)\n",
    ">0. Apply to [training](files/Class12-Train.csv) and [query](files/Class12-Query.csv) sets (1)\n",
    ">0. Compare your results to sklearn's (1)\n",
    "\n",
    "- Perform 10-fold cross-validation of *MyQDA* on [this](files/Class12-Train.csv) file (7)\n",
    "\n",
    ">0. Write code without using sklearn (4)\n",
    ">0. Calculate average and variance of good classifications (2)\n",
    ">0. Compare to sklearn (1)"
   ]
  }
 ],
 "metadata": {
  "celltoolbar": "Slideshow",
  "kernelspec": {
   "display_name": "Python 2",
   "language": "python",
   "name": "python2"
  },
  "language_info": {
   "codemirror_mode": {
    "name": "ipython",
    "version": 2
   },
   "file_extension": ".py",
   "mimetype": "text/x-python",
   "name": "python",
   "nbconvert_exporter": "python",
   "pygments_lexer": "ipython2",
   "version": "2.7.9"
  }
 },
 "nbformat": 4,
 "nbformat_minor": 0
}
